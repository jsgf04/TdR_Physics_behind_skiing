{
  "nbformat": 4,
  "nbformat_minor": 0,
  "metadata": {
    "colab": {
      "name": "Període del pèndol.ipynb",
      "provenance": [],
      "collapsed_sections": [
        "RCp8x9bgxaJv"
      ],
      "authorship_tag": "ABX9TyP+QggN88/fhZze1oESS3lZ",
      "include_colab_link": true
    },
    "kernelspec": {
      "name": "python3",
      "display_name": "Python 3"
    },
    "language_info": {
      "name": "python"
    }
  },
  "cells": [
    {
      "cell_type": "markdown",
      "metadata": {
        "id": "view-in-github",
        "colab_type": "text"
      },
      "source": [
        "<a href=\"https://colab.research.google.com/github/jsgf04/TdR_Physics_behind_skiing/blob/main/Per%C3%ADode%20del%20p%C3%A8ndol%20b%C3%A0sic.ipynb\" target=\"_parent\"><img src=\"https://colab.research.google.com/assets/colab-badge.svg\" alt=\"Open In Colab\"/></a>"
      ]
    },
    {
      "cell_type": "markdown",
      "source": [
        "# **Períodes del pèndol invertit bàsic**"
      ],
      "metadata": {
        "id": "RCp8x9bgxaJv"
      }
    },
    {
      "cell_type": "markdown",
      "source": [
        "\n",
        "\n",
        "Variables que et demanarà:\n",
        "\n",
        "\n",
        "*   **Alçada de l'esquiador (m) per calcular la posició aproximada del CM (centre de massa)**\n",
        "*   **Radi dels esquís (m)**\n",
        "*   **Velocitat de l'esquiador durant el trajecte (m/s)(constant)**\n",
        "\n",
        "---\n",
        "Normes per al correcte funcionament del simulador:\n",
        "\n",
        "-Nombres decimals amb '  .  ' , no amb '  ,  '  .\n",
        "\n",
        "**Correcte :** 12.7\n",
        "\n",
        "**Incorrecte :** 12,7\n",
        "\n",
        "\n",
        "---\n",
        "Per iniciar la simulació cliqueu el botó de \"play\" al racó superior esquerre del codi o bé feu la combinació de botons \n",
        "\n",
        "```\n",
        "Ctrl+Enter\n",
        "```\n",
        "\n",
        "\n"
      ],
      "metadata": {
        "id": "uZLDC95aTo4n"
      }
    },
    {
      "cell_type": "code",
      "source": [
        "import numpy as np\n",
        "from numpy import sin,cos,sign,sqrt,arcsin,pi\n",
        "from scipy.integrate import solve_ivp, quad\n",
        "from matplotlib import pyplot as plt\n",
        "from termcolor import colored\n",
        "from matplotlib.pyplot import figure\n",
        "import sympy as smp\n",
        "\n",
        "print(colored(\"ADVERTÈNCIA: EL SIMULADOR ÉS VÀLID FINS APROXIMADAMENT 65º-70º\",\"red\"))\n",
        "g = 9.807\n",
        "height = float(input(\"Alçada de l'esquiador (m): \"))\n",
        "l = 0.56*height\n",
        "R_sc = float(input(\"Radi dels esquís (m): \"))\n",
        "V = float(input(\"Velocitat de l'esquiador durant el trajecte (m/s): \"))\n",
        "zeta = V**2/(g*R_sc)\n",
        "\n",
        "print(\"L'angle crític a què és vàlid el període és \"+str(round(zeta*180/np.pi, 2))+\"º\")\n",
        "\n",
        "if zeta*180/np.pi>90:\n",
        "  psi_max1 = np.linspace(0, 90, 1000)\n",
        "else:\n",
        "  psi_max1 = np.linspace(0, zeta*180/np.pi, 1000)\n",
        "\n",
        "T_approx = 4*np.sqrt(l/g)*np.log(np.abs(((psi_max1*np.pi/180)-zeta)/(np.sqrt(2*zeta*(psi_max1*np.pi/180)-(psi_max1*np.pi/180)**2)-zeta)))\n",
        "\n",
        "if V**2/(g*R_sc)<1:\n",
        "  Phi_eq = round(np.arcsin(V**2/(g*R_sc))*(180/np.pi), 3)\n",
        "else:\n",
        "  Phi_eq = \"No hi han posicions d'equilibri\"\n",
        "\n",
        "if V**2/(g*R_sc)<1:\n",
        "  text2 = \"${\\Phi}_{equilibri}$ = ±\"\n",
        "else:\n",
        "  text2 = \"${\\Phi}_{equilibri}$ = \"\n",
        "\n",
        "if V**2/(g*R_sc)<1:\n",
        "    Phi_equilibri_arr = round(0.98*Phi_eq,3)\n",
        "    print(\"Angle d'equilibri per referència: ±\"+str(Phi_eq)+\"º\",  colored((\"[NO POT PASSAR DE ± 0.99 · \\u03A6  ≈ ± \"+str(Phi_equilibri_arr)+\"... º]\"),\"red\"))\n",
        "else:\n",
        "    print(\"No hi han posicions d'equilibri; és a dir, el pèndol/l'esquiador oscilarà constantment a qualsevol angle sempre i quan no sigui extrem (70º-90º, 90º seria inclinar-se paral·lelament amb el terra | A partir de 70º l'esquiador pateix fins a 3 g s de força en cas el cas que la pista sigui horitzontal, això requereix molta força muscular.)\")\n",
        "\n",
        "def solveit(initial_Psi):\n",
        "  def equations(t,y):\n",
        "      dy=np.zeros([2])\n",
        "      dy[0] = y[1]\n",
        "      dy[1] = (g/l)*np.sin(y[0])-(V**2/(l*R_sc))*np.sign(y[0])\n",
        "\n",
        "      return dy\n",
        "\n",
        "  time = np.linspace(0, 10, 100000)\n",
        "\n",
        "  y0 = [np.radians(initial_Psi), np.radians(0.0)]\n",
        "\n",
        "  res = solve_ivp(equations, (0,10), y0, method='RK45', t_eval=time, dense_output=True, rtol=1e-8, atol=1e-10)\n",
        "\n",
        "  t, psi, omega = res.t, res.y[0], res.y[1]\n",
        "\n",
        "  def find_roots(x,y):\n",
        "      s = np.abs(np.diff(np.sign(y))).astype(bool)\n",
        "      return x[:-1][s] + np.diff(x)[s]/(np.abs(y[1:][s]/y[:-1][s])+1)\n",
        "\n",
        "  T_ini_o = find_roots(t.T,psi.T)\n",
        "  print(\"T= \"+str(round(4*T_ini_o[0], 3))+\" s per \\N{GREEK CAPITAL LETTER PHI}\\N{SUBSCRIPT ZERO}= \"+str(round(initial_Psi,2))+\"º\")\n",
        "  plt.scatter(initial_Psi, 4*T_ini_o[0], c=\"k\",s=7, zorder=2)\n",
        "\n",
        "if V**2/(g*R_sc)<=1:\n",
        "  initial_Psi_list= np.linspace(1, int(180*np.arcsin(zeta)/np.pi),10)\n",
        "else:\n",
        "  initial_Psi_list= [5, 10, 15, 20, 25, 30, 35, 40, 45, 50, 55, 60, 65, 70, 75, 80, 85, 90]\n",
        "\n",
        "fig = plt.figure()\n",
        "\n",
        "for initial_Psi_case in initial_Psi_list:\n",
        "  solveit(initial_Psi_case)\n",
        "\n",
        "T_exact = []\n",
        "\n",
        "if V**2/(g*R_sc)<=1:\n",
        "  psi_max2 = np.linspace(1, 180*np.arcsin(zeta)/np.pi,1000)\n",
        "else:\n",
        "  psi_max2 = np.linspace(0, 90, 1000)\n",
        "\n",
        "for i in psi_max2:\n",
        "  def f(x):\n",
        "     return 1/np.sqrt((np.cos(i*np.pi/180)-np.cos(x))+zeta*(np.abs(i*np.pi/180)-np.abs(x)))\n",
        "  \n",
        "  T_exact.append(2*np.sqrt(2)*np.sqrt(l/g)*quad(f, 0, i*np.pi/180)[0])\n",
        "\n",
        "plt.plot(psi_max1, T_approx,\"r\",linewidth = 1.15, label=\"Aproximació\", zorder=1)\n",
        "plt.plot(psi_max2, T_exact,\"b\",linewidth = 1.15, label=\"Analítica\", zorder=0)\n",
        "plt.scatter(0, 0, c=\"k\", s=7, label=\"Original\")\n",
        "plt.legend()\n",
        "plt.ylim(0,10)\n",
        "plt.axis(\"auto\")\n",
        "plt.xlabel(u'${\\Phi_{o/màx}}$ (rad)', fontsize=13)\n",
        "plt.ylabel('T (s)', fontsize=12)\n",
        "\n",
        "if V**2/(g*R_sc)<=1:\n",
        "  plt.xticks(np.arange(0, int(180*np.arcsin(zeta)/np.pi)+int(180*np.arcsin(zeta)/np.pi)/10, int(180*np.arcsin(zeta)/np.pi)/10))\n",
        "else:\n",
        "  plt.xticks(np.arange(0, 100, 10))\n",
        "\n",
        "plt.yticks(np.arange(0, 11, 1))\n",
        "plt.show()"
      ],
      "metadata": {
        "colab": {
          "base_uri": "https://localhost:8080/",
          "height": 791
        },
        "id": "i0ccnqJQS6xi",
        "outputId": "371a5f3e-5264-4540-adfc-b43b154813ca"
      },
      "execution_count": null,
      "outputs": [
        {
          "output_type": "stream",
          "name": "stdout",
          "text": [
            "\u001b[31mADVERTÈNCIA: EL SIMULADOR ÉS VÀLID FINS APROXIMADAMENT 65º-70º\u001b[0m\n",
            "Alçada de l'esquiador (m): 1.8\n",
            "Radi dels esquís (m): 14\n",
            "Velocitat de l'esquiador durant el trajecte (m/s): 12\n",
            "L'angle crític a què és vàlid el període és 60.09º\n",
            "No hi han posicions d'equilibri; és a dir, el pèndol/l'esquiador oscilarà constantment a qualsevol angle sempre i quan no sigui extrem (70º-90º, 90º seria inclinar-se paral·lelament amb el terra | A partir de 70º l'esquiador pateix fins a 3 g s de força en cas el cas que la pista sigui horitzontal, això requereix molta força muscular.)\n"
          ]
        },
        {
          "output_type": "stream",
          "name": "stderr",
          "text": [
            "/usr/local/lib/python3.7/dist-packages/ipykernel_launcher.py:24: RuntimeWarning: invalid value encountered in true_divide\n"
          ]
        },
        {
          "output_type": "stream",
          "name": "stdout",
          "text": [
            "T= 0.542 s per Φ₀= 5º\n",
            "T= 0.797 s per Φ₀= 10º\n",
            "T= 1.018 s per Φ₀= 15º\n",
            "T= 1.229 s per Φ₀= 20º\n",
            "T= 1.442 s per Φ₀= 25º\n",
            "T= 1.664 s per Φ₀= 30º\n",
            "T= 1.901 s per Φ₀= 35º\n",
            "T= 2.159 s per Φ₀= 40º\n",
            "T= 2.446 s per Φ₀= 45º\n",
            "T= 2.769 s per Φ₀= 50º\n",
            "T= 3.14 s per Φ₀= 55º\n",
            "T= 3.57 s per Φ₀= 60º\n",
            "T= 4.075 s per Φ₀= 65º\n",
            "T= 4.673 s per Φ₀= 70º\n",
            "T= 5.376 s per Φ₀= 75º\n",
            "T= 6.174 s per Φ₀= 80º\n",
            "T= 7.006 s per Φ₀= 85º\n",
            "T= 7.735 s per Φ₀= 90º\n"
          ]
        },
        {
          "output_type": "stream",
          "name": "stderr",
          "text": [
            "/usr/local/lib/python3.7/dist-packages/ipykernel_launcher.py:85: RuntimeWarning: divide by zero encountered in double_scalars\n",
            "/usr/local/lib/python3.7/dist-packages/ipykernel_launcher.py:87: IntegrationWarning: Extremely bad integrand behavior occurs at some points of the\n",
            "  integration interval.\n"
          ]
        },
        {
          "output_type": "display_data",
          "data": {
            "text/plain": [
              "<Figure size 432x288 with 1 Axes>"
            ],
            "image/png": "[encoded data removed]"
          },
          "metadata": {
            "needs_background": "light"
          }
        }
      ]
    }
  ]
}