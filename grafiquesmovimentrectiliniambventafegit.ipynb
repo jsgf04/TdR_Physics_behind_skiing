{
  "nbformat": 4,
  "nbformat_minor": 0,
  "metadata": {
    "colab": {
      "name": "Solve_ivp vent",
      "provenance": [],
      "collapsed_sections": [],
      "include_colab_link": true
    },
    "kernelspec": {
      "name": "python3",
      "display_name": "Python 3"
    },
    "language_info": {
      "name": "python"
    }
  },
  "cells": [
    {
      "cell_type": "markdown",
      "metadata": {
        "id": "view-in-github",
        "colab_type": "text"
      },
      "source": [
        "<a href=\"https://colab.research.google.com/github/jsgf04/TdR_Physics_behind_skiing/blob/main/grafiquesmovimentrectiliniambventafegit.ipynb\" target=\"_parent\"><img src=\"https://colab.research.google.com/assets/colab-badge.svg\" alt=\"Open In Colab\"/></a>"
      ]
    },
    {
      "cell_type": "markdown",
      "metadata": {
        "id": "3w1Fuurtveyh"
      },
      "source": [
        "#**Gràfiques del moviment rectilini amb velocitat del vent afegida**"
      ]
    },
    {
      "cell_type": "markdown",
      "metadata": {
        "id": "tch803E3v5bw"
      },
      "source": [
        "\n",
        "\n",
        "Variables que et demanarà:\n",
        "\n",
        "\n",
        "*   Massa de l'esquiador (kg)\n",
        "*   Velocitat del vent (m/s) * \n",
        "*   Coeficient de fricció cinètica\n",
        "*   Coeficient de fricció estàtica\n",
        "*   Angle de la pista (º): \n",
        "*   Temps final o durada del trajecte (s)\n",
        "*   Velocitat inicial de l'esquiador (m/s), és a dir, si s'impulsa amb els pals o no.\n",
        "\n",
        "*Si és 0, el cas es simplifica a l'aire essent estàtic i, per tant, al cas del simulador de Geogebra.\n",
        "\n",
        "---\n",
        "Normes per al correcte funcionament del simulador:\n",
        "\n",
        "-Nombres decimals amb '  .  ' , no amb '  ,  '  .\n",
        "\n",
        "**Correcte :** 12.7\n",
        "\n",
        "**Incorrecte :** 12,7\n",
        "\n",
        "\n",
        "---\n",
        "Per iniciar la simulació cliqueu el botó de \"play\" al racó superior esquerre del codi o bé feu la combinació de botons \n",
        "\n",
        "```\n",
        "Ctrl+Enter\n",
        "```\n",
        "\n",
        "\n"
      ]
    },
    {
      "cell_type": "code",
      "metadata": {
        "colab": {
          "base_uri": "https://localhost:8080/",
          "height": 1000
        },
        "id": "hnRlGC6H0W9F",
        "outputId": "3987e34e-367c-4bce-8564-31f7e1634b3e"
      },
      "source": [
        "import numpy as np\n",
        "from numpy import sin,cos,sign,sqrt\n",
        "from scipy.integrate import solve_ivp\n",
        "from matplotlib import pyplot as plt\n",
        "\n",
        "g = 9.807\n",
        "m = float(input(\"Massa de l'esquiador (kg): \"))\n",
        "w = float(input(\"Velocitat del vent (m/s): \"))\n",
        "mu_kinetic = float(input(\"Coeficient de fricció cinètica: \"))\n",
        "mu_static = float(input(\"Coeficient de fricció estàtica: \"))\n",
        "k = (0.43 * 0.255 * 1.01178) / 2\n",
        "alpha_degrees = float(input(\"Inclinació de la pista (º): \"))\n",
        "alpha_rad = np.radians(alpha_degrees)\n",
        "\n",
        "def equations(t,y):\n",
        "    dy=np.zeros([3])\n",
        "    # 0 Pos\n",
        "    # 1 Vel\n",
        "    # 2 Acc\n",
        "    dy[0] = y[1]\n",
        "    dy[1] = y0[2]\n",
        "    dy[1] = g*np.sin(alpha_rad)-mu_kinetic*g*np.cos(alpha_rad)-(k/m)*(y[1]+w)**2\n",
        "    dy[2] = -((2*k*y[2])/m)*(2*y[1] + w*y[2])\n",
        "    \n",
        "\n",
        "    return dy\n",
        "\n",
        "final_time = float(input(\"Temps final (s): \"))\n",
        "time = np.linspace(0, final_time, 100000)\n",
        "initial_velocity = float(input(\"Velocitat inicial (m/s): \"))\n",
        "initial_acc = g*np.sin(alpha_rad)-mu_static*g*np.cos(alpha_rad)\n",
        "y0 = [0.0, initial_velocity, initial_acc]\n",
        "print(\"\")\n",
        "#Solució\n",
        "y = solve_ivp(equations, (0,final_time), y0, method='RK45', t_eval=time, dense_output=True, rtol=1e-12, atol=1e-24)\n",
        "\n",
        "t, pos, vel, acc = y.t, y.y[0], y.y[1], y.y[2]\n",
        "\n",
        "expr= 'm/s\\N{SUPERSCRIPT TWO}'\n",
        "\n",
        "plt.plot(t, pos.T,\"b\",linewidth = 0.65)\n",
        "plt.xlabel(\"Temps (s)\")\n",
        "plt.ylabel(\"Posició (m)\")\n",
        "plt.show()\n",
        "print(\"x = \"+str(pos[-1])+\" m\")\n",
        "print(\"t = \"+str(final_time)+\" s\")\n",
        "\n",
        "plt.plot(t, vel.T,\"g\",linewidth = 0.65)\n",
        "plt.xlabel(\"Temps (s)\")\n",
        "plt.ylabel(\"Velocitat (m/s)\")\n",
        "plt.show()\n",
        "print(\"v = \"+str(vel[-1])+\" m/s\")\n",
        "print(\"t = \"+str(final_time)+\" s\")\n",
        "\n",
        "plt.plot(t, acc.T,\"r\",linewidth = 0.65)\n",
        "plt.xlabel(\"Temps (s)\")\n",
        "plt.ylabel(\"Acceleració (\"+expr+\")\")\n",
        "plt.show()\n",
        "print(\"a = \"+str(round(acc[-1], 3))+\"... \" +expr)\n",
        "print(\"t = \"+str(final_time)+\" s\")"
      ],
      "execution_count": 2,
      "outputs": [
        {
          "output_type": "stream",
          "name": "stdout",
          "text": [
            "Massa de l'esquiador (kg): 80\n",
            "Velocitat del vent (m/s): 12.5\n",
            "Coeficient de fricció cinètica: 0.02\n",
            "Coeficient de fricció estàtica: 0.04\n",
            "Inclinació de la pista (º): 20\n",
            "Temps final (s): 20\n",
            "Velocitat inicial (m/s): 0\n",
            "\n"
          ]
        },
        {
          "output_type": "display_data",
          "data": {
            "image/png": "[encoded data removed]",
            "text/plain": [
              "<Figure size 432x288 with 1 Axes>"
            ]
          },
          "metadata": {
            "needs_background": "light"
          }
        },
        {
          "output_type": "stream",
          "name": "stdout",
          "text": [
            "x = 491.8737831993243 m\n",
            "t = 20.0 s\n"
          ]
        },
        {
          "output_type": "display_data",
          "data": {
            "image/png": "[encoded data removed]",
            "text/plain": [
              "<Figure size 432x288 with 1 Axes>"
            ]
          },
          "metadata": {
            "needs_background": "light"
          }
        },
        {
          "output_type": "stream",
          "name": "stdout",
          "text": [
            "v = 42.2120651607017 m/s\n",
            "t = 20.0 s\n"
          ]
        },
        {
          "output_type": "display_data",
          "data": {
            "image/png": "[encoded data removed]",
            "text/plain": [
              "<Figure size 432x288 with 1 Axes>"
            ]
          },
          "metadata": {
            "needs_background": "light"
          }
        },
        {
          "output_type": "stream",
          "name": "stdout",
          "text": [
            "a = 0.452... m/s²\n",
            "t = 20.0 s\n"
          ]
        }
      ]
    }
  ]
}